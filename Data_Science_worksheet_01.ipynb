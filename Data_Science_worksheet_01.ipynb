{
  "nbformat": 4,
  "nbformat_minor": 0,
  "metadata": {
    "colab": {
      "provenance": [],
      "authorship_tag": "ABX9TyP7AAshJhxDsIUX5LrKY7om",
      "include_colab_link": true
    },
    "kernelspec": {
      "name": "python3",
      "display_name": "Python 3"
    },
    "language_info": {
      "name": "python"
    }
  },
  "cells": [
    {
      "cell_type": "markdown",
      "metadata": {
        "id": "view-in-github",
        "colab_type": "text"
      },
      "source": [
        "<a href=\"https://colab.research.google.com/github/dattatrayamundhe/Applied-data-science/blob/main/Data_Science_worksheet_01.ipynb\" target=\"_parent\"><img src=\"https://colab.research.google.com/assets/colab-badge.svg\" alt=\"Open In Colab\"/></a>"
      ]
    },
    {
      "cell_type": "markdown",
      "source": [
        "**1]Operators**\n",
        "\n",
        "a)Arithmetic Operator\n",
        "\n",
        "b)Comparison Operator\n",
        "\n",
        "c)Logical Operator"
      ],
      "metadata": {
        "id": "mAM3pUxq6au4"
      }
    },
    {
      "cell_type": "code",
      "source": [
        "#Arithmetic Operator\n",
        "a = int(input(\"Enter first number: \"))\n",
        "b = int(input(\"Enter second number: \"))\n",
        "\n",
        "print(f\"Addition of two numbers : {a+b}\")\n",
        "print(f\"Subtraction of two numbers: {a-b}\")\n",
        "print(\"Multiplication of two numbers: \", a*b)\n",
        "print(\"Division of two numbers: \", a/b)\n",
        "print(\"Modules of two numbers: \", a%b)\n",
        "print(\"Floor division of two numbers: \", a//b)\n",
        "print(\"Exponent of two numbers: \", a**b)"
      ],
      "metadata": {
        "colab": {
          "base_uri": "https://localhost:8080/"
        },
        "id": "pQixVCX6DQsT",
        "outputId": "405a106c-d678-4b4c-915f-7e4106a1543d"
      },
      "execution_count": 9,
      "outputs": [
        {
          "output_type": "stream",
          "name": "stdout",
          "text": [
            "Enter first number: 34\n",
            "Enter second number: 33\n",
            "Addition of two numbers : 67\n",
            "Subtraction of two numbers: 1\n",
            "Multiplication of two numbers:  1122\n",
            "Division of two numbers:  1.0303030303030303\n",
            "Modules of two numbers:  1\n",
            "Floor division of two numbers:  1\n",
            "Exponent of two numbers:  345783497216724000335707367685598692782880644399104\n"
          ]
        }
      ]
    },
    {
      "cell_type": "code",
      "source": [
        "#Comparison Operator\n",
        "a = int(input(\"Enter first number : \"))\n",
        "b = int(input(\"Enter first number : \"))\n",
        "\n",
        "print(f\"{a} is less than {b} : {a<b}\")\n",
        "print(f\"{a} is less than or equal to {b} : {a<=b}\")\n",
        "print(f\"{a} is greater than {b} : {a>b}\")\n",
        "print(f\"{a} is greater than or equal to {b} : {a>=b}\")\n",
        "print(f\"{a} is not equal to {b} : {a!=b}\")\n",
        "print(f\"{a} is equal to {b} : {a==b}\")"
      ],
      "metadata": {
        "colab": {
          "base_uri": "https://localhost:8080/"
        },
        "id": "ERDOmZjFD8NF",
        "outputId": "770a310e-4614-4f26-9514-b904fd4e06c2"
      },
      "execution_count": 10,
      "outputs": [
        {
          "output_type": "stream",
          "name": "stdout",
          "text": [
            "Enter first number : 12\n",
            "Enter first number : 5\n",
            "12 is less than 5 : False\n",
            "12 is less than or equal to 5 : False\n",
            "12 is greater than 5 : True\n",
            "12 is greater than or equal to 5 : True\n",
            "12 is not equal to 5 : True\n",
            "12 is equal to 5 : False\n"
          ]
        }
      ]
    },
    {
      "cell_type": "code",
      "source": [
        "#Logical Operator\n",
        "a = input()\n",
        "b = input()\n",
        "\n",
        "print(f\"{a} and {b} : {a and b}\")\n",
        "print(f\"{a} or {b} : {a or b}\")\n",
        "print(f\"not {a} : {not a}\")"
      ],
      "metadata": {
        "colab": {
          "base_uri": "https://localhost:8080/"
        },
        "id": "9Zf37X22FmoI",
        "outputId": "f46c7fe2-e300-4232-b3f2-360bba83bfdd"
      },
      "execution_count": 13,
      "outputs": [
        {
          "output_type": "stream",
          "name": "stdout",
          "text": [
            "0\n",
            "1\n",
            "0 and 1 : 1\n",
            "0 or 1 : 0\n",
            "not 0 : False\n"
          ]
        }
      ]
    }
  ]
}